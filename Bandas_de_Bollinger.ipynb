{
  "nbformat": 4,
  "nbformat_minor": 0,
  "metadata": {
    "colab": {
      "provenance": [],
      "include_colab_link": true
    },
    "kernelspec": {
      "name": "python3",
      "display_name": "Python 3"
    },
    "language_info": {
      "name": "python"
    }
  },
  "cells": [
    {
      "cell_type": "markdown",
      "metadata": {
        "id": "view-in-github",
        "colab_type": "text"
      },
      "source": [
        "<a href=\"https://colab.research.google.com/github/SantiData87/yFinance/blob/main/Bandas_de_Bollinger.ipynb\" target=\"_parent\"><img src=\"https://colab.research.google.com/assets/colab-badge.svg\" alt=\"Open In Colab\"/></a>"
      ]
    },
    {
      "cell_type": "markdown",
      "source": [
        "https://x.com/nacho_java/status/1835489740176400871\n"
      ],
      "metadata": {
        "id": "_G3SzFQ3mDSf"
      }
    },
    {
      "cell_type": "code",
      "source": [
        "import yfinance as yf\n",
        "import pandas as pd\n",
        "import matplotlib.pyplot as plt\n",
        "\n",
        "# Descargar datos de un activo\n",
        "ticker = 'GGAL.BA'\n",
        "df = yf.download(ticker, start=\"2023-09-01\", end=\"2024-09-15\")\n",
        "\n",
        "# Calcular la Media Móvil de 20 días\n",
        "df['SMA_20'] = df['Close'].rolling(window=20).mean()\n",
        "\n",
        "# Calcular la desviación estándar de 20 días\n",
        "df['stddev'] = df['Close'].rolling(window=20).std()\n",
        "\n",
        "# Calcular las Bandas de Bollinger\n",
        "df['Upper_Band'] = df['SMA_20'] + (df['stddev'] * 2)\n",
        "df['Lower_Band'] = df['SMA_20'] - (df['stddev'] * 2)\n",
        "\n",
        "# Crear un DataFrame con las columnas de interés\n",
        "df_bollinger = df[['Close', 'SMA_20', 'Upper_Band', 'Lower_Band']]\n",
        "\n",
        "# Graficar las Bandas de Bollinger\n",
        "plt.figure(figsize=(10, 6))\n",
        "plt.plot(df.index, df['Close'], label='Precio de Cierre', color='blue')\n",
        "plt.plot(df.index, df['SMA_20'], label='Media Móvil 20 días', color='orange')\n",
        "plt.plot(df.index, df['Upper_Band'], label='Banda Superior', color='green')\n",
        "plt.plot(df.index, df['Lower_Band'], label='Banda Inferior', color='red')\n",
        "plt.fill_between(df.index, df['Upper_Band'], df['Lower_Band'], color='lightgrey', alpha=0.5)\n",
        "\n",
        "# Personalizar el gráfico\n",
        "plt.title(f'Bandas de Bollinger para {ticker}')\n",
        "plt.xlabel('Fecha')\n",
        "plt.ylabel('Precio')\n",
        "plt.legend(loc='best')\n",
        "plt.grid(True)\n",
        "plt.show()\n",
        "\n",
        "# Exportar a un archivo Excel\n",
        "df_bollinger.to_excel('bandas_de_bollinger_con_grafico.xlsx', index=False)\n"
      ],
      "metadata": {
        "colab": {
          "base_uri": "https://localhost:8080/"
        },
        "id": "nrFE95JyUpFa",
        "outputId": "d9cad942-e380-4e1f-b4bf-288236977cf4"
      },
      "execution_count": null,
      "outputs": [
        {
          "output_type": "stream",
          "name": "stderr",
          "text": [
            "\r[*********************100%***********************]  1 of 1 completed"
          ]
        }
      ]
    },
    {
      "cell_type": "markdown",
      "source": [],
      "metadata": {
        "id": "OTCQ2SO9mCMq"
      }
    },
    {
      "cell_type": "code",
      "source": [],
      "metadata": {
        "id": "UDJsJPfsUpen"
      },
      "execution_count": null,
      "outputs": []
    }
  ]
}
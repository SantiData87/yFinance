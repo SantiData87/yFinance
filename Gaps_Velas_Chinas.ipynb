{
  "nbformat": 4,
  "nbformat_minor": 0,
  "metadata": {
    "colab": {
      "provenance": [],
      "include_colab_link": true
    },
    "kernelspec": {
      "name": "python3",
      "display_name": "Python 3"
    },
    "language_info": {
      "name": "python"
    }
  },
  "cells": [
    {
      "cell_type": "markdown",
      "metadata": {
        "id": "view-in-github",
        "colab_type": "text"
      },
      "source": [
        "<a href=\"https://colab.research.google.com/github/SantiData87/yFinance/blob/main/Gaps_Velas_Chinas.ipynb\" target=\"_parent\"><img src=\"https://colab.research.google.com/assets/colab-badge.svg\" alt=\"Open In Colab\"/></a>"
      ]
    },
    {
      "cell_type": "markdown",
      "source": [
        "https://x.com/nacho_java/status/1834007535080047016"
      ],
      "metadata": {
        "id": "9CreqPU546q6"
      }
    },
    {
      "cell_type": "code",
      "execution_count": null,
      "metadata": {
        "colab": {
          "base_uri": "https://localhost:8080/"
        },
        "id": "wvUbnmwjk5OE",
        "outputId": "897c80c7-233b-48cc-f831-a9a76d9de547"
      },
      "outputs": [
        {
          "output_type": "stream",
          "name": "stderr",
          "text": [
            "\r[*********************100%***********************]  1 of 1 completed"
          ]
        },
        {
          "output_type": "stream",
          "name": "stdout",
          "text": [
            "Gaps\n",
            "Cantidad de gaps positivos: 39\n",
            "Cantidad de gaps negativos: 36\n",
            "Gaps positivos:\n",
            "                  High         Low\n",
            "Date                              \n",
            "2020-04-14   77.250000   71.599998\n",
            "2020-04-28   82.099998   73.150002\n",
            "2020-06-02  108.099998  103.000000\n",
            "2020-06-05  123.449997  119.599998\n",
            "2020-06-08  134.500000  124.050003\n",
            "\n",
            "Gaps negativos:\n",
            "                  High         Low\n",
            "Date                              \n",
            "2020-02-13  119.900002  112.650002\n",
            "2020-02-26  111.400002  107.300003\n",
            "2020-03-06  106.750000  102.000000\n",
            "2020-03-09   92.800003   85.000000\n",
            "2020-03-12   83.099998   77.000000\n"
          ]
        },
        {
          "output_type": "stream",
          "name": "stderr",
          "text": [
            "\n"
          ]
        }
      ],
      "source": [
        "import yfinance as yf\n",
        "import pandas as pd\n",
        "\n",
        "# Descargar datos de ejemplo (puedes cambiar el ticker)\n",
        "ticker = 'GGAL.BA'\n",
        "data = yf.download(ticker, start='2020-01-01', end='2023-01-01')\n",
        "\n",
        "# Calcular el gap positivo: cuando el mínimo del día actual es mayor que el máximo del día anterior\n",
        "data['Gap positivo'] = data['Low'] > data['High'].shift(1)\n",
        "\n",
        "# Calcular el gap negativo: cuando el máximo del día actual es menor que el mínimo del día anterior\n",
        "data['Gap negativo'] = data['High'] < data['Low'].shift(1)\n",
        "\n",
        "# Filtrar gaps positivos y negativos\n",
        "gaps_positivos = data[data['Gap positivo']]\n",
        "gaps_negativos = data[data['Gap negativo']]\n",
        "\n",
        "# Mostrar la cantidad de gaps positivos y negativos\n",
        "cantidad_gaps_positivos = len(gaps_positivos)\n",
        "cantidad_gaps_negativos = len(gaps_negativos)\n",
        "\n",
        "print( \"Gaps\")\n",
        "print(f\"Cantidad de gaps positivos: {cantidad_gaps_positivos}\")\n",
        "print(f\"Cantidad de gaps negativos: {cantidad_gaps_negativos}\")\n",
        "\n",
        "\n",
        "# Mostrar los primeros gaps positivos y negativos\n",
        "print(\"Gaps positivos:\")\n",
        "print(gaps_positivos[['High', 'Low']].head())\n",
        "\n",
        "print(\"\\nGaps negativos:\")\n",
        "print(gaps_negativos[['High', 'Low']].head())"
      ]
    },
    {
      "cell_type": "code",
      "source": [
        "## aca te dejo como funciona shift()\n",
        "\n",
        "import pandas as pd\n",
        "\n",
        "# Crear un DataFrame de ejemplo\n",
        "df = pd.DataFrame({'A': [1, 2, 3, 4, 5]})\n",
        "\n",
        "# Desplazar los valores de la columna 'A' hacia abajo (periods=1)\n",
        "df['Shifted_A'] = df['A'].shift(1)\n",
        "print(df)"
      ],
      "metadata": {
        "colab": {
          "base_uri": "https://localhost:8080/"
        },
        "id": "9xvr67lDWB71",
        "outputId": "28325d68-22ec-42e0-9b60-38b9d178b897"
      },
      "execution_count": null,
      "outputs": [
        {
          "output_type": "stream",
          "name": "stdout",
          "text": [
            "   A  Shifted_A\n",
            "0  1        NaN\n",
            "1  2        1.0\n",
            "2  3        2.0\n",
            "3  4        3.0\n",
            "4  5        4.0\n"
          ]
        }
      ]
    },
    {
      "cell_type": "code",
      "source": [],
      "metadata": {
        "id": "ZBHgED-AWLRW"
      },
      "execution_count": null,
      "outputs": []
    }
  ]
}
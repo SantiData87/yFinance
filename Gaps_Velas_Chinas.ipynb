{
  "nbformat": 4,
  "nbformat_minor": 0,
  "metadata": {
    "colab": {
      "provenance": [],
      "include_colab_link": true
    },
    "kernelspec": {
      "name": "python3",
      "display_name": "Python 3"
    },
    "language_info": {
      "name": "python"
    }
  },
  "cells": [
    {
      "cell_type": "markdown",
      "metadata": {
        "id": "view-in-github",
        "colab_type": "text"
      },
      "source": [
        "<a href=\"https://colab.research.google.com/github/SantiData87/yFinance/blob/main/Gaps_Velas_Chinas.ipynb\" target=\"_parent\"><img src=\"https://colab.research.google.com/assets/colab-badge.svg\" alt=\"Open In Colab\"/></a>"
      ]
    },
    {
      "cell_type": "markdown",
      "source": [
        "https://x.com/nacho_java/status/1834007535080047016"
      ],
      "metadata": {
        "id": "9CreqPU546q6"
      }
    },
    {
      "cell_type": "code",
      "execution_count": 10,
      "metadata": {
        "colab": {
          "base_uri": "https://localhost:8080/"
        },
        "id": "wvUbnmwjk5OE",
        "outputId": "718ba52f-1e16-4f65-8dbc-f6c91b1f6904"
      },
      "outputs": [
        {
          "output_type": "stream",
          "name": "stderr",
          "text": [
            "\r[*********************100%***********************]  1 of 1 completed"
          ]
        },
        {
          "output_type": "stream",
          "name": "stdout",
          "text": [
            "-------------------------------------------------------------------------------\n",
            "Cantidad de gaps positivos: 61\n",
            "Cantidad de gaps negativos: 46\n",
            "-------------------------------------------------------------------------------\n",
            "Gaps positivos:\n",
            "                  High         Low\n",
            "Date                              \n",
            "2020-04-14   77.250000   71.599998\n",
            "2020-04-28   82.099998   73.150002\n",
            "2020-06-02  108.099998  103.000000\n",
            "2020-06-05  123.449997  119.599998\n",
            "2020-06-08  134.500000  124.050003\n",
            "-------------------------------------------------------------------------------\n",
            "\n",
            "Gaps negativos:\n",
            "                  High         Low\n",
            "Date                              \n",
            "2020-02-13  119.900002  112.650002\n",
            "2020-02-26  111.400002  107.300003\n",
            "2020-03-06  106.750000  102.000000\n",
            "2020-03-09   92.800003   85.000000\n",
            "2020-03-12   83.099998   77.000000\n",
            "-------------------------------------------------------------------------------\n"
          ]
        },
        {
          "output_type": "stream",
          "name": "stderr",
          "text": [
            "\n"
          ]
        }
      ],
      "source": [
        "import yfinance as yf\n",
        "import pandas as pd\n",
        "from datetime import date\n",
        "\n",
        "# Fecha de hoy\n",
        "today = date.today()\n",
        "\n",
        "# Descargar datos de un activo\n",
        "ticker = 'GGAL.BA'\n",
        "df = yf.download(ticker, start=\"2023-09-01\", end=today)\n",
        "\n",
        "# Calcular el gap positivo: cuando el mínimo del día actual es mayor que el máximo del día anterior\n",
        "data['Gap positivo'] = data['Low'] > data['High'].shift(1)\n",
        "\n",
        "# Calcular el gap negativo: cuando el máximo del día actual es menor que el mínimo del día anterior\n",
        "data['Gap negativo'] = data['High'] < data['Low'].shift(1)\n",
        "\n",
        "# Filtrar gaps positivos y negativos\n",
        "gaps_positivos = data[data['Gap positivo']]\n",
        "gaps_negativos = data[data['Gap negativo']]\n",
        "\n",
        "# Mostrar la cantidad de gaps positivos y negativos\n",
        "cantidad_gaps_positivos = len(gaps_positivos)\n",
        "cantidad_gaps_negativos = len(gaps_negativos)\n",
        "\n",
        "print( \"-------------------------------------------------------------------------------\")\n",
        "print(f\"Cantidad de gaps positivos: {cantidad_gaps_positivos}\")\n",
        "print(f\"Cantidad de gaps negativos: {cantidad_gaps_negativos}\")\n",
        "print( \"-------------------------------------------------------------------------------\")\n",
        "\n",
        "# Mostrar los primeros gaps positivos y negativos\n",
        "print(\"Gaps positivos:\")\n",
        "print(gaps_positivos[['High', 'Low']].head())\n",
        "print( \"-------------------------------------------------------------------------------\")\n",
        "\n",
        "print(\"\\nGaps negativos:\")\n",
        "print(gaps_negativos[['High', 'Low']].head())\n",
        "print( \"-------------------------------------------------------------------------------\")"
      ]
    },
    {
      "cell_type": "markdown",
      "source": [
        "shift()"
      ],
      "metadata": {
        "id": "Yc0ybhRnTPUn"
      }
    },
    {
      "cell_type": "code",
      "source": [
        "\n",
        "## aca te dejo como funciona shift()\n",
        "\n",
        "import pandas as pd\n",
        "\n",
        "# Crear un DataFrame de ejemplo\n",
        "df = pd.DataFrame({'A': [1, 2, 3, 4, 5]})\n",
        "\n",
        "# Desplazar los valores de la columna 'A' hacia abajo (periods=1)\n",
        "df['Shifted_A'] = df['A'].shift(1)\n",
        "print(df)"
      ],
      "metadata": {
        "id": "ZBHgED-AWLRW",
        "outputId": "64400dc5-9b62-4302-99ac-5b027b6e2ff9",
        "colab": {
          "base_uri": "https://localhost:8080/"
        }
      },
      "execution_count": 11,
      "outputs": [
        {
          "output_type": "stream",
          "name": "stdout",
          "text": [
            "   A  Shifted_A\n",
            "0  1        NaN\n",
            "1  2        1.0\n",
            "2  3        2.0\n",
            "3  4        3.0\n",
            "4  5        4.0\n"
          ]
        }
      ]
    }
  ]
}